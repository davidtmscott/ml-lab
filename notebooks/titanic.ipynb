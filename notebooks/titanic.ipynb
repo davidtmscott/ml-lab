{
 "cells": [
  {
   "cell_type": "markdown",
   "id": "59e665f5-68ad-4849-887b-62bb161dcd21",
   "metadata": {},
   "source": [
    "# Titanic"
   ]
  },
  {
   "cell_type": "markdown",
   "id": "9fdedcdb-1f7c-40d5-8843-8686dba3c714",
   "metadata": {},
   "source": [
    "Kaggle competition to predict survivors from titanic dataset"
   ]
  },
  {
   "cell_type": "markdown",
   "id": "f0473b7d-3f4c-4516-8ca0-3f22f18e0f9b",
   "metadata": {},
   "source": [
    "## Load packages and data "
   ]
  },
  {
   "cell_type": "code",
   "execution_count": 7,
   "id": "70ccf15a-8f77-425b-993d-4f52541a15f2",
   "metadata": {},
   "outputs": [],
   "source": [
    "# load packages\n",
    "import pandas as pd\n",
    "import matplotlib as plt\n"
   ]
  },
  {
   "cell_type": "code",
   "execution_count": 5,
   "id": "00253c15-e5b7-44db-be43-d7e649bd6d2c",
   "metadata": {},
   "outputs": [],
   "source": [
    "# load data \n",
    "train = pd.read_csv(\"../data/titanic/train.csv\")\n",
    "test = pd.read_csv(\"../data/titanic/test.csv\")"
   ]
  }
 ],
 "metadata": {
  "kernelspec": {
   "display_name": "Python 3 (ipykernel)",
   "language": "python",
   "name": "python3"
  },
  "language_info": {
   "codemirror_mode": {
    "name": "ipython",
    "version": 3
   },
   "file_extension": ".py",
   "mimetype": "text/x-python",
   "name": "python",
   "nbconvert_exporter": "python",
   "pygments_lexer": "ipython3",
   "version": "3.13.7"
  }
 },
 "nbformat": 4,
 "nbformat_minor": 5
}
